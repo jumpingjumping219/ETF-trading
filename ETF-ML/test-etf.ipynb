{
 "cells": [
  {
   "cell_type": "code",
   "execution_count": 8,
   "metadata": {},
   "outputs": [
    {
     "name": "stderr",
     "output_type": "stream",
     "text": [
      "                                                 \r"
     ]
    },
    {
     "ename": "ValueError",
     "evalue": "Mime type rendering requires nbformat>=4.2.0 but it is not installed",
     "output_type": "error",
     "traceback": [
      "\u001b[0;31m---------------------------------------------------------------------------\u001b[0m",
      "\u001b[0;31mValueError\u001b[0m                                Traceback (most recent call last)",
      "\u001b[1;32m/Users/mistletoe/量化金融/5-PF/test-etf.ipynb 单元格 1\u001b[0m line \u001b[0;36m1\n\u001b[1;32m     <a href='vscode-notebook-cell:/Users/mistletoe/%E9%87%8F%E5%8C%96%E9%87%91%E8%9E%8D/5-PF/test-etf.ipynb#W1sZmlsZQ%3D%3D?line=16'>17</a>\u001b[0m d0\u001b[39m=\u001b[39mfind_annual_ETF(df)\u001b[39m.\u001b[39mreset_index()\n\u001b[1;32m     <a href='vscode-notebook-cell:/Users/mistletoe/%E9%87%8F%E5%8C%96%E9%87%91%E8%9E%8D/5-PF/test-etf.ipynb#W1sZmlsZQ%3D%3D?line=17'>18</a>\u001b[0m d0\u001b[39m.\u001b[39mindex\u001b[39m=\u001b[39md0[\u001b[39m'\u001b[39m\u001b[39mdate\u001b[39m\u001b[39m'\u001b[39m]\u001b[39m.\u001b[39mapply(\u001b[39mstr\u001b[39m)\u001b[39m+\u001b[39md0[\u001b[39m'\u001b[39m\u001b[39m股票名称\u001b[39m\u001b[39m'\u001b[39m]\n\u001b[0;32m---> <a href='vscode-notebook-cell:/Users/mistletoe/%E9%87%8F%E5%8C%96%E9%87%91%E8%9E%8D/5-PF/test-etf.ipynb#W1sZmlsZQ%3D%3D?line=18'>19</a>\u001b[0m qs\u001b[39m.\u001b[39;49mbar(d0[\u001b[39m'\u001b[39;49m\u001b[39m累计收益率\u001b[39;49m\u001b[39m'\u001b[39;49m])\n",
      "File \u001b[0;32m~/miniconda3/envs/examples/lib/python3.11/site-packages/qstock/plot/data_plot.py:125\u001b[0m, in \u001b[0;36mbar\u001b[0;34m(data, x, y, title, color, legend, orientation, log_x, log_y, barmode, notebook)\u001b[0m\n\u001b[1;32m    117\u001b[0m fig\u001b[39m.\u001b[39mupdate_layout(\n\u001b[1;32m    118\u001b[0m     title\u001b[39m=\u001b[39m{\n\u001b[1;32m    119\u001b[0m         \u001b[39m'\u001b[39m\u001b[39mtext\u001b[39m\u001b[39m'\u001b[39m: title,  \u001b[39m# 标题名称\u001b[39;00m\n\u001b[0;32m   (...)\u001b[0m\n\u001b[1;32m    122\u001b[0m         \u001b[39m'\u001b[39m\u001b[39mxanchor\u001b[39m\u001b[39m'\u001b[39m: \u001b[39m'\u001b[39m\u001b[39mcenter\u001b[39m\u001b[39m'\u001b[39m,  \u001b[39m# 相对位置\u001b[39;00m\n\u001b[1;32m    123\u001b[0m         \u001b[39m'\u001b[39m\u001b[39myanchor\u001b[39m\u001b[39m'\u001b[39m: \u001b[39m'\u001b[39m\u001b[39mtop\u001b[39m\u001b[39m'\u001b[39m})\n\u001b[1;32m    124\u001b[0m \u001b[39mif\u001b[39;00m notebook:\n\u001b[0;32m--> 125\u001b[0m     \u001b[39mreturn\u001b[39;00m fig\u001b[39m.\u001b[39;49mshow()\n\u001b[1;32m    126\u001b[0m \u001b[39melse\u001b[39;00m:\n\u001b[1;32m    127\u001b[0m     \u001b[39mreturn\u001b[39;00m plotly\u001b[39m.\u001b[39moffline\u001b[39m.\u001b[39mplot(fig)\n",
      "File \u001b[0;32m~/miniconda3/envs/examples/lib/python3.11/site-packages/plotly/basedatatypes.py:3410\u001b[0m, in \u001b[0;36mBaseFigure.show\u001b[0;34m(self, *args, **kwargs)\u001b[0m\n\u001b[1;32m   3377\u001b[0m \u001b[39m\u001b[39m\u001b[39m\"\"\"\u001b[39;00m\n\u001b[1;32m   3378\u001b[0m \u001b[39mShow a figure using either the default renderer(s) or the renderer(s)\u001b[39;00m\n\u001b[1;32m   3379\u001b[0m \u001b[39mspecified by the renderer argument\u001b[39;00m\n\u001b[0;32m   (...)\u001b[0m\n\u001b[1;32m   3406\u001b[0m \u001b[39mNone\u001b[39;00m\n\u001b[1;32m   3407\u001b[0m \u001b[39m\"\"\"\u001b[39;00m\n\u001b[1;32m   3408\u001b[0m \u001b[39mimport\u001b[39;00m \u001b[39mplotly\u001b[39;00m\u001b[39m.\u001b[39;00m\u001b[39mio\u001b[39;00m \u001b[39mas\u001b[39;00m \u001b[39mpio\u001b[39;00m\n\u001b[0;32m-> 3410\u001b[0m \u001b[39mreturn\u001b[39;00m pio\u001b[39m.\u001b[39;49mshow(\u001b[39mself\u001b[39;49m, \u001b[39m*\u001b[39;49margs, \u001b[39m*\u001b[39;49m\u001b[39m*\u001b[39;49mkwargs)\n",
      "File \u001b[0;32m~/miniconda3/envs/examples/lib/python3.11/site-packages/plotly/io/_renderers.py:394\u001b[0m, in \u001b[0;36mshow\u001b[0;34m(fig, renderer, validate, **kwargs)\u001b[0m\n\u001b[1;32m    389\u001b[0m         \u001b[39mraise\u001b[39;00m \u001b[39mValueError\u001b[39;00m(\n\u001b[1;32m    390\u001b[0m             \u001b[39m\"\u001b[39m\u001b[39mMime type rendering requires ipython but it is not installed\u001b[39m\u001b[39m\"\u001b[39m\n\u001b[1;32m    391\u001b[0m         )\n\u001b[1;32m    393\u001b[0m     \u001b[39mif\u001b[39;00m \u001b[39mnot\u001b[39;00m nbformat \u001b[39mor\u001b[39;00m Version(nbformat\u001b[39m.\u001b[39m__version__) \u001b[39m<\u001b[39m Version(\u001b[39m\"\u001b[39m\u001b[39m4.2.0\u001b[39m\u001b[39m\"\u001b[39m):\n\u001b[0;32m--> 394\u001b[0m         \u001b[39mraise\u001b[39;00m \u001b[39mValueError\u001b[39;00m(\n\u001b[1;32m    395\u001b[0m             \u001b[39m\"\u001b[39m\u001b[39mMime type rendering requires nbformat>=4.2.0 but it is not installed\u001b[39m\u001b[39m\"\u001b[39m\n\u001b[1;32m    396\u001b[0m         )\n\u001b[1;32m    398\u001b[0m     ipython_display\u001b[39m.\u001b[39mdisplay(bundle, raw\u001b[39m=\u001b[39m\u001b[39mTrue\u001b[39;00m)\n\u001b[1;32m    400\u001b[0m \u001b[39m# external renderers\u001b[39;00m\n",
      "\u001b[0;31mValueError\u001b[0m: Mime type rendering requires nbformat>=4.2.0 but it is not installed"
     ]
    }
   ],
   "source": [
    "import qstock as qs\n",
    "import pandas as pd\n",
    "import numpy as np\n",
    "dd=qs.realtime_data('ETF')\n",
    "df=qs.get_price(list(dd['代码']),start='2014-03-01',end='2024-03-18')\n",
    "#历史数据探索性分析\n",
    "def find_annual_ETF(df):\n",
    "    #将时间索引转化为年\n",
    "    new_df=df.to_period('Y')\n",
    "    #根据年进行聚类求每一年的累计收益率\n",
    "    dd=new_df.groupby(new_df.index).apply(lambda x: (((x/x.shift(1)-1).fillna(0)+1.0).cumprod()).iloc[-1])\n",
    "    #获取每一年收益率最大的个股及其收益率\n",
    "    final_df=pd.DataFrame()\n",
    "    final_df['股票名称']=dd.T.idxmax()\n",
    "    final_df['累计收益率']=dd.T.max()-1\n",
    "    return final_df\n",
    "d0=find_annual_ETF(df).reset_index()\n",
    "d0.index=d0['date'].apply(str)+d0['股票名称']\n",
    "qs.bar(d0['累计收益率'])"
   ]
  },
  {
   "cell_type": "code",
   "execution_count": 9,
   "metadata": {},
   "outputs": [
    {
     "ename": "SyntaxError",
     "evalue": "invalid syntax (3801462010.py, line 1)",
     "output_type": "error",
     "traceback": [
      "\u001b[0;36m  Cell \u001b[0;32mIn[9], line 1\u001b[0;36m\u001b[0m\n\u001b[0;31m    brew install ta-lib\u001b[0m\n\u001b[0m         ^\u001b[0m\n\u001b[0;31mSyntaxError\u001b[0m\u001b[0;31m:\u001b[0m invalid syntax\n"
     ]
    }
   ],
   "source": [
    "brew install ta-lib"
   ]
  }
 ],
 "metadata": {
  "kernelspec": {
   "display_name": "Python 3",
   "language": "python",
   "name": "python3"
  },
  "language_info": {
   "codemirror_mode": {
    "name": "ipython",
    "version": 3
   },
   "file_extension": ".py",
   "mimetype": "text/x-python",
   "name": "python",
   "nbconvert_exporter": "python",
   "pygments_lexer": "ipython3",
   "version": "3.11.5"
  },
  "orig_nbformat": 4
 },
 "nbformat": 4,
 "nbformat_minor": 2
}
