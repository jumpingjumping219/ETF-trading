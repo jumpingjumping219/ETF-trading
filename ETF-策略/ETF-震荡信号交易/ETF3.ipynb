{
 "cells": [
  {
   "cell_type": "code",
   "execution_count": 1,
   "metadata": {},
   "outputs": [],
   "source": [
    "import pandas as pd\n",
    "import numpy as np\n",
    "import os\n",
    "# from mootdx.quotes import Quotes\n",
    "import datetime\n",
    "from tqdm import tqdm\n",
    "import matplotlib.pyplot as plt\n",
    "%matplotlib inline"
   ]
  },
  {
   "cell_type": "code",
   "execution_count": 2,
   "metadata": {},
   "outputs": [],
   "source": [
    "base_path = os.path.join('F:\\stock', 'ETF')\n",
    "# base_path = 'ETF'"
   ]
  },
  {
   "cell_type": "code",
   "execution_count": 3,
   "metadata": {},
   "outputs": [],
   "source": [
    "def fun(x):\n",
    "    if x > 0.2:\n",
    "        return 1\n",
    "    elif x < -0.2:\n",
    "        return -1\n",
    "    else:\n",
    "        return 0\n",
    "    \n",
    "def fun2(x):\n",
    "    if x > 0.06:\n",
    "        return 1\n",
    "    elif x < -0.06:\n",
    "        return -1\n",
    "    else:\n",
    "        return 0\n",
    "\n",
    "def fun3(x):\n",
    "    if x > 0:\n",
    "        return np.log(x+1)\n",
    "    else:\n",
    "        return -np.log(-x+1)\n",
    "    \n",
    "df_list = []\n",
    "names = []\n",
    "for path in os.listdir(base_path):\n",
    "    names.append(path.split('.')[0])\n",
    "    tmp_df = pd.read_csv(os.path.join(base_path, path))\n",
    "    tmp_df['close_rate'] = tmp_df['close'] / tmp_df['pre_close'] - 1\n",
    "    \n",
    "    \n",
    "    tmp_df['next_close'] = tmp_df['close'].shift(-1)\n",
    "    tmp_df['buy_price'] = tmp_df['pre_close'].shift(-1)\n",
    "    tmp_df['next_rate'] = tmp_df['close_rate'].shift(-1)\n",
    "\n",
    "    tmp_df['high_rate'] = tmp_df['high'] / tmp_df['close'] - 1\n",
    "    tmp_df['low_rate'] = tmp_df['low'] / tmp_df['close'] - 1\n",
    "    tmp_df['close_rate2'] = tmp_df['close'] / tmp_df['open'] - 1\n",
    "    \n",
    "    tmp_df['close_rate_shift'] = tmp_df['close_rate'].shift(1)\n",
    "    tmp_df['close_rate2_shift'] = tmp_df['close_rate2'].shift(1)\n",
    "    tmp_df['vol_shift'] = tmp_df['vol'].shift(1) / tmp_df['vol'] - 1\n",
    "    tmp_df['vol_shift'] = tmp_df['vol_shift'].apply(fun)\n",
    "    tmp_df['close_kind'] = tmp_df['close_rate'].apply(fun2)\n",
    "    tmp_df['vol_kind'] = tmp_df['vol_shift'] * tmp_df['close_kind']\n",
    "    \n",
    "    tmp_df['signal'] = 1 * tmp_df['high_rate'] + 3 * tmp_df['low_rate'] + 2 * tmp_df['close_rate2'] + 1 * tmp_df['close_rate'] + \\\n",
    "                  + 0.5 * tmp_df['vol_kind'] - 0.5 * tmp_df['close_rate_shift']\n",
    "    \n",
    "    tmp_df['signal'] = tmp_df['signal'].apply(lambda x: fun3(x))\n",
    "    tmp_df.dropna(inplace=True)\n",
    "    df_list.append(tmp_df)\n",
    "#     break"
   ]
  },
  {
   "cell_type": "code",
   "execution_count": 4,
   "metadata": {},
   "outputs": [],
   "source": [
    "df = pd.concat(df_list)\n",
    "\n",
    "tmp_df = pd.DataFrame()\n",
    "tmp_df['trade_date'] = sorted(df['trade_date'].unique())\n",
    "# index_df = pd.read_csv('000001.SH.csv')\n",
    "index_df = pd.read_csv('F:\\\\stock\\\\IndexData\\\\000001.SH.csv')\n",
    "tmp_df = tmp_df.merge(index_df[['trade_date', 'close']], on='trade_date', how='left')\n",
    "tmp_df['rate2'] = tmp_df['close'] / tmp_df['close'][0]\n",
    "\n",
    "df.dropna(inplace=True)"
   ]
  },
  {
   "cell_type": "code",
   "execution_count": 5,
   "metadata": {},
   "outputs": [
    {
     "name": "stdout",
     "output_type": "stream",
     "text": [
      "[0.22325045135024565, 0.12793769834848664, -0.018085137525583574, 0.09696044564219664, 0.10037860338231455, 0.1614555339493735, 0.12141267890814707, 0.0458041669157205, 0.113305251883312, 0.16815465228876722, 0.1465649226172446, -0.049856441138083664, 0.11611508043392885, 0.03196409816050801, 0.10404456519050599, 0.08357450756261532, 0.10016525240128034, -0.06430126434854588, 0.1452818058568443]\n",
      "0.09232246694101463\n"
     ]
    }
   ],
   "source": [
    "cors = []\n",
    "for i in range(len(df_list)):\n",
    "    a = np.array(df_list[i]['signal'])[:-1]\n",
    "    b = np.array(df_list[i]['next_rate'])[:-1]\n",
    "    cor = np.corrcoef(a, b)\n",
    "    cors.append(cor[0][1])\n",
    "print(cors)\n",
    "print(np.mean(cors))"
   ]
  },
  {
   "cell_type": "code",
   "execution_count": 14,
   "metadata": {},
   "outputs": [
    {
     "name": "stderr",
     "output_type": "stream",
     "text": [
      "100%|██████████| 2190/2190 [00:01<00:00, 1265.88it/s]\n"
     ]
    }
   ],
   "source": [
    "init_money = 100000\n",
    "market_value = init_money\n",
    "left_money = init_money\n",
    "service_rate = 0.00005\n",
    "values = [init_money]\n",
    "# values = [init_money]\n",
    "hold_num = dict(zip(df['ts_code'].unique(), np.zeros(df['ts_code'].nunique())))\n",
    "next_closes = dict(zip(df['ts_code'].unique(), np.zeros(df['ts_code'].nunique())))\n",
    "market_values_ = []\n",
    "k = 0\n",
    "thresh_hold = -0.005\n",
    "flag = True\n",
    "for i,g in tqdm(df.groupby('trade_date')):\n",
    "    k+=1\n",
    "\n",
    "    g = g.reset_index(drop=True)\n",
    "    signal = g['signal'].values\n",
    "\n",
    "    idx = np.where(signal<thresh_hold)[0]\n",
    "    signal[idx] = thresh_hold\n",
    "    tmp = signal - min(signal)\n",
    "    \n",
    "#     if np.sum(tmp!=0) < len(tmp) * 0.2:\n",
    "#         max_cangwei = 0.3\n",
    "#     elif np.sum(tmp!=0) < len(tmp) * 0.3:\n",
    "#         max_cangwei = 0.45\n",
    "#     elif np.sum(tmp!=0) < len(tmp) * 0.4:\n",
    "#         max_cangwei = 0.6\n",
    "#     else:\n",
    "#         max_cangwei = 1\n",
    "    max_cangwei = 1\n",
    "\n",
    "    idx = np.argsort(tmp)[::-1]\n",
    "    for i in range(5, len(idx)):\n",
    "        tmp[idx[i]] = 0\n",
    "    cangwei = tmp / (tmp.sum()+1e-6) * max_cangwei\n",
    "    \n",
    "    cangwei = np.round(cangwei, 2)\n",
    "\n",
    "    nums = []\n",
    "    left_money = market_value\n",
    "    \n",
    "    for j in range(len(g)):\n",
    "        # -100 给手续费留一些空间\n",
    "        money = (market_value-100) * cangwei[j]\n",
    "        num = money / g['buy_price'][j] // 100\n",
    "        nums.append(num)\n",
    "        left_money = left_money - num * 100 * (g['buy_price'][j]) * (1+service_rate)\n",
    "        hold_num[g['ts_code'][j]] = num\n",
    "        next_closes[g['ts_code'][j]] = g['next_close'][j]\n",
    "\n",
    "    # 计算市值\n",
    "    market_value = 0\n",
    "    for key in hold_num:\n",
    "        market_value = market_value + hold_num[key] * 100 * (next_closes[key]) * (1-service_rate)\n",
    "        hold_num[key] = 0\n",
    "    market_value += left_money\n",
    "    market_values_.append(market_value)\n",
    "#     break"
   ]
  },
  {
   "cell_type": "code",
   "execution_count": 15,
   "metadata": {},
   "outputs": [
    {
     "data": {
      "text/plain": [
       "1469644.703559924"
      ]
     },
     "execution_count": 15,
     "metadata": {},
     "output_type": "execute_result"
    }
   ],
   "source": [
    "market_value"
   ]
  },
  {
   "cell_type": "code",
   "execution_count": 16,
   "metadata": {},
   "outputs": [],
   "source": [
    "tmp_df['market_value'] = market_values_\n",
    "tmp_df['rate1'] = tmp_df['market_value'] / init_money"
   ]
  },
  {
   "cell_type": "code",
   "execution_count": 17,
   "metadata": {},
   "outputs": [
    {
     "data": {
      "image/png": "[encoded data removed]",
      "text/plain": [
       "<Figure size 432x288 with 1 Axes>"
      ]
     },
     "metadata": {
      "needs_background": "light"
     },
     "output_type": "display_data"
    }
   ],
   "source": [
    "plt.figure()\n",
    "plt.plot(tmp_df['rate1'])\n",
    "plt.plot(tmp_df['rate2'])\n",
    "plt.show()"
   ]
  },
  {
   "cell_type": "code",
   "execution_count": 18,
   "metadata": {},
   "outputs": [
    {
     "data": {
      "text/html": [
       "<div>\n",
       "<style scoped>\n",
       "    .dataframe tbody tr th:only-of-type {\n",
       "        vertical-align: middle;\n",
       "    }\n",
       "\n",
       "    .dataframe tbody tr th {\n",
       "        vertical-align: top;\n",
       "    }\n",
       "\n",
       "    .dataframe thead th {\n",
       "        text-align: right;\n",
       "    }\n",
       "</style>\n",
       "<table border=\"1\" class=\"dataframe\">\n",
       "  <thead>\n",
       "    <tr style=\"text-align: right;\">\n",
       "      <th></th>\n",
       "      <th>trade_date</th>\n",
       "      <th>close</th>\n",
       "      <th>rate2</th>\n",
       "      <th>market_value</th>\n",
       "      <th>rate1</th>\n",
       "    </tr>\n",
       "  </thead>\n",
       "  <tbody>\n",
       "    <tr>\n",
       "      <th>0</th>\n",
       "      <td>20110908</td>\n",
       "      <td>2498.9430</td>\n",
       "      <td>1.000000</td>\n",
       "      <td>1.000000e+05</td>\n",
       "      <td>1.000000</td>\n",
       "    </tr>\n",
       "    <tr>\n",
       "      <th>1</th>\n",
       "      <td>20110909</td>\n",
       "      <td>2497.7530</td>\n",
       "      <td>0.999524</td>\n",
       "      <td>9.900997e+04</td>\n",
       "      <td>0.990100</td>\n",
       "    </tr>\n",
       "    <tr>\n",
       "      <th>2</th>\n",
       "      <td>20110913</td>\n",
       "      <td>2471.3050</td>\n",
       "      <td>0.988940</td>\n",
       "      <td>9.900997e+04</td>\n",
       "      <td>0.990100</td>\n",
       "    </tr>\n",
       "    <tr>\n",
       "      <th>3</th>\n",
       "      <td>20110914</td>\n",
       "      <td>2484.8270</td>\n",
       "      <td>0.994351</td>\n",
       "      <td>9.900997e+04</td>\n",
       "      <td>0.990100</td>\n",
       "    </tr>\n",
       "    <tr>\n",
       "      <th>4</th>\n",
       "      <td>20110915</td>\n",
       "      <td>2479.0550</td>\n",
       "      <td>0.992041</td>\n",
       "      <td>9.918088e+04</td>\n",
       "      <td>0.991809</td>\n",
       "    </tr>\n",
       "    <tr>\n",
       "      <th>...</th>\n",
       "      <td>...</td>\n",
       "      <td>...</td>\n",
       "      <td>...</td>\n",
       "      <td>...</td>\n",
       "      <td>...</td>\n",
       "    </tr>\n",
       "    <tr>\n",
       "      <th>2185</th>\n",
       "      <td>20200904</td>\n",
       "      <td>3355.3666</td>\n",
       "      <td>1.342714</td>\n",
       "      <td>1.505294e+06</td>\n",
       "      <td>15.052944</td>\n",
       "    </tr>\n",
       "    <tr>\n",
       "      <th>2186</th>\n",
       "      <td>20200907</td>\n",
       "      <td>3292.5907</td>\n",
       "      <td>1.317593</td>\n",
       "      <td>1.529259e+06</td>\n",
       "      <td>15.292589</td>\n",
       "    </tr>\n",
       "    <tr>\n",
       "      <th>2187</th>\n",
       "      <td>20200908</td>\n",
       "      <td>3316.4170</td>\n",
       "      <td>1.327128</td>\n",
       "      <td>1.472041e+06</td>\n",
       "      <td>14.720413</td>\n",
       "    </tr>\n",
       "    <tr>\n",
       "      <th>2188</th>\n",
       "      <td>20200909</td>\n",
       "      <td>3254.6279</td>\n",
       "      <td>1.302402</td>\n",
       "      <td>1.472041e+06</td>\n",
       "      <td>14.720413</td>\n",
       "    </tr>\n",
       "    <tr>\n",
       "      <th>2189</th>\n",
       "      <td>20200910</td>\n",
       "      <td>3234.8234</td>\n",
       "      <td>1.294477</td>\n",
       "      <td>1.469645e+06</td>\n",
       "      <td>14.696447</td>\n",
       "    </tr>\n",
       "  </tbody>\n",
       "</table>\n",
       "<p>2190 rows × 5 columns</p>\n",
       "</div>"
      ],
      "text/plain": [
       "      trade_date      close     rate2  market_value      rate1\n",
       "0       20110908  2498.9430  1.000000  1.000000e+05   1.000000\n",
       "1       20110909  2497.7530  0.999524  9.900997e+04   0.990100\n",
       "2       20110913  2471.3050  0.988940  9.900997e+04   0.990100\n",
       "3       20110914  2484.8270  0.994351  9.900997e+04   0.990100\n",
       "4       20110915  2479.0550  0.992041  9.918088e+04   0.991809\n",
       "...          ...        ...       ...           ...        ...\n",
       "2185    20200904  3355.3666  1.342714  1.505294e+06  15.052944\n",
       "2186    20200907  3292.5907  1.317593  1.529259e+06  15.292589\n",
       "2187    20200908  3316.4170  1.327128  1.472041e+06  14.720413\n",
       "2188    20200909  3254.6279  1.302402  1.472041e+06  14.720413\n",
       "2189    20200910  3234.8234  1.294477  1.469645e+06  14.696447\n",
       "\n",
       "[2190 rows x 5 columns]"
      ]
     },
     "execution_count": 18,
     "metadata": {},
     "output_type": "execute_result"
    }
   ],
   "source": [
    "tmp_df"
   ]
  },
  {
   "cell_type": "code",
   "execution_count": 19,
   "metadata": {},
   "outputs": [
    {
     "name": "stdout",
     "output_type": "stream",
     "text": [
      "0.21494448358744223\n"
     ]
    }
   ],
   "source": [
    "def max_return(arr):\n",
    "    max_r = 0\n",
    "    max_ = arr[0]\n",
    "    for i in range(len(arr)):\n",
    "        tmp = arr[i] #/ max_\n",
    "        if tmp > max_:\n",
    "            max_ = tmp\n",
    "        if 1 - tmp / max_ > max_r:\n",
    "            max_r = 1 - tmp / max_\n",
    "#             print(i, tmp, max_, max_r)\n",
    "    return max_r\n",
    "# print(max_return(tmp_df['rate1']))\n",
    "print(max_return(tmp_df['rate1'].values))"
   ]
  },
  {
   "cell_type": "code",
   "execution_count": 20,
   "metadata": {},
   "outputs": [
    {
     "name": "stdout",
     "output_type": "stream",
     "text": [
      "20110906-20120906, ETF策略收益率为: -0.13, 最大回撤为：0.21494448358744223 , 上证收益率: -0.18\n",
      "20120906-20130906, ETF策略收益率为: 0.28, 最大回撤为：0.1354201737977152 , 上证收益率: 0.04\n",
      "20130906-20140906, ETF策略收益率为: 0.27, 最大回撤为：0.062074718672202045 , 上证收益率: 0.09\n",
      "20140906-20150906, ETF策略收益率为: 1.67, 最大回撤为：0.1697080188392509 , 上证收益率: 0.36\n",
      "20150906-20160906, ETF策略收益率为: 0.28, 最大回撤为：0.17456565954460335 , 上证收益率: -0.02\n",
      "20160906-20170906, ETF策略收益率为: 0.15, 最大回撤为：0.059449082301959 , 上证收益率: 0.1\n",
      "20170906-20180906, ETF策略收益率为: 0.08, 最大回撤为：0.10395695046324571 , 上证收益率: -0.2\n",
      "20180906-20190906, ETF策略收益率为: 0.48, 最大回撤为：0.14480686372186025 , 上证收益率: 0.11\n",
      "20190906-20200906, ETF策略收益率为: 0.71, 最大回撤为：0.09036187778709026 , 上证收益率: 0.12\n"
     ]
    }
   ],
   "source": [
    "last_price = tmp_df['rate1'][0]\n",
    "last_price2 = tmp_df['rate2'][0]\n",
    "for i in range(9):\n",
    "    start = 20110906 + 10000 * i\n",
    "    end = 20110906 + 10000 * (i+1)\n",
    "    tmp_df2 = tmp_df[(tmp_df['trade_date']>start)&(tmp_df['trade_date']<=end)]\n",
    "    profit = tmp_df2['rate1'].values[-1] / last_price - 1\n",
    "    profit2 = tmp_df2['rate2'].values[-1] / last_price2 - 1\n",
    "    max_return_ = max_return(tmp_df2['rate1'].values)\n",
    "    last_price = tmp_df2['rate1'].values[-1]\n",
    "    last_price2 = tmp_df2['rate2'].values[-1]\n",
    "    info = str(start) + '-' + str(end) + ', ETF策略收益率为: ' + str(np.round(profit,2))  + ', 最大回撤为：' + str(max_return_)\n",
    "    info = info + ' , 上证收益率: ' + str(np.round(profit2, 2)) \n",
    "    print(info)"
   ]
  },
  {
   "cell_type": "code",
   "execution_count": null,
   "metadata": {},
   "outputs": [],
   "source": []
  }
 ],
 "metadata": {
  "kernelspec": {
   "display_name": "Python 3",
   "language": "python",
   "name": "python3"
  },
  "language_info": {
   "codemirror_mode": {
    "name": "ipython",
    "version": 3
   },
   "file_extension": ".py",
   "mimetype": "text/x-python",
   "name": "python",
   "nbconvert_exporter": "python",
   "pygments_lexer": "ipython3",
   "version": "3.6.3"
  }
 },
 "nbformat": 4,
 "nbformat_minor": 2
}
