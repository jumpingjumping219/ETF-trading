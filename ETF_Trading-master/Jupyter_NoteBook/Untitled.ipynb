{
 "cells": [
  {
   "cell_type": "code",
   "execution_count": 62,
   "metadata": {},
   "outputs": [],
   "source": [
    "# -*- coding: utf-8 -*-\n",
    "\"\"\"\n",
    "Created on Wed Apr 29 10:19:50 2020\n",
    "\n",
    "@author: hs101\n",
    "\"\"\"\n",
    "\n",
    "import pandas as pd\n",
    "#import numpy as np\n",
    "#import os\n",
    "\n",
    "class ETF_Data:\n",
    "    def __init__(self,code,dataRaw):\n",
    "        self.etf_code = code\n",
    "        self.dataRaw = dataRaw\n",
    "        self.ETF_constitution, self.ETF_PR_list = self.process_dataRaw()\n",
    "    \n",
    "    \n",
    "    def process_dataRaw(self):\n",
    "        data1 = self.dataRaw[13:-1]\n",
    "        data2 = self.dataRaw[:12]\n",
    "    \n",
    "        data1_split_series = data1[\"[ETFZL]\"].str.split(\"|\")\n",
    "        datalist1 = []\n",
    "        for i in range(len(data1_split_series)):\n",
    "            datalist1.append(data1_split_series[i+13])\n",
    "        df1 = pd.DataFrame(datalist1).drop([5,6],axis=1)\n",
    "        \n",
    "        data2_split_series = data2[\"[ETFZL]\"].str.split('=')\n",
    "        datalist2 = []\n",
    "        for i in range(len(data2_split_series)):\n",
    "            datalist2.append(data2_split_series[i])\n",
    "        df2 = pd.DataFrame(datalist2)\n",
    "        return df1,df2\n",
    "\n",
    "# etf_code = \"5100100429\"\n",
    "# etf_data = ETF_Data(etf_code)\n"
   ]
  },
  {
   "cell_type": "code",
   "execution_count": null,
   "metadata": {},
   "outputs": [],
   "source": [
    "# 分割线"
   ]
  },
  {
   "cell_type": "code",
   "execution_count": 71,
   "metadata": {},
   "outputs": [],
   "source": [
    "import ETF_Data"
   ]
  },
  {
   "cell_type": "code",
   "execution_count": 72,
   "metadata": {},
   "outputs": [
    {
     "ename": "TypeError",
     "evalue": "'module' object is not callable",
     "output_type": "error",
     "traceback": [
      "\u001b[1;31m---------------------------------------------------------------------------\u001b[0m",
      "\u001b[1;31mTypeError\u001b[0m                                 Traceback (most recent call last)",
      "\u001b[1;32m<ipython-input-72-a266c869679c>\u001b[0m in \u001b[0;36m<module>\u001b[1;34m\u001b[0m\n\u001b[0;32m      1\u001b[0m \u001b[0metf_code\u001b[0m \u001b[1;33m=\u001b[0m \u001b[1;34m\"510011\"\u001b[0m\u001b[1;33m\u001b[0m\u001b[1;33m\u001b[0m\u001b[0m\n\u001b[1;32m----> 2\u001b[1;33m \u001b[0metf_data\u001b[0m \u001b[1;33m=\u001b[0m \u001b[0mETF_Data\u001b[0m\u001b[1;33m(\u001b[0m\u001b[0metf_code\u001b[0m\u001b[1;33m)\u001b[0m\u001b[1;33m\u001b[0m\u001b[1;33m\u001b[0m\u001b[0m\n\u001b[0m",
      "\u001b[1;31mTypeError\u001b[0m: 'module' object is not callable"
     ]
    }
   ],
   "source": [
    "etf_code = \"510011\"\n",
    "etf_data = ETF_Data(etf_code)"
   ]
  },
  {
   "cell_type": "code",
   "execution_count": null,
   "metadata": {},
   "outputs": [],
   "source": [
    "# 分割线 以上是 ETF_Data"
   ]
  },
  {
   "cell_type": "code",
   "execution_count": null,
   "metadata": {},
   "outputs": [],
   "source": [
    "# 分割线 一下是 ETF_Crawler"
   ]
  },
  {
   "cell_type": "code",
   "execution_count": 55,
   "metadata": {},
   "outputs": [],
   "source": [
    "from urllib import request\n",
    "target = \"http://query.sse.com.cn/etfDownload/downloadETF2Bulletin.do?etfType=\""
   ]
  },
  {
   "cell_type": "code",
   "execution_count": 56,
   "metadata": {},
   "outputs": [],
   "source": [
    "# 这里是循环可以改变的量\n",
    "num = 5"
   ]
  },
  {
   "cell_type": "code",
   "execution_count": 57,
   "metadata": {},
   "outputs": [],
   "source": [
    "url =  target+str(num)\n",
    "html = request.urlopen(url).read().decode('gb2312')"
   ]
  },
  {
   "cell_type": "code",
   "execution_count": 58,
   "metadata": {
    "collapsed": true
   },
   "outputs": [
    {
     "name": "stdout",
     "output_type": "stream",
     "text": [
      "[ETFZL]\r\n",
      "Fundid1=510011\r\n",
      "CreationRedemptionUnit=1000000\r\n",
      "MaxCashRatio=0.30000\r\n",
      "Publish=1\r\n",
      "CreationRedemption=1\r\n",
      "Recordnum=100\r\n",
      "EstimateCashComponent=-4236.15\r\n",
      "TradingDay=20200430\r\n",
      "PreTradingDay=20200429\r\n",
      "CashComponent=-4233.15\r\n",
      "NAVperCU=1107344.85\r\n",
      "NAV=1.1070\r\n",
      "TAGTAG\r\n",
      "600000|浦发银行|    2600|1|0.10000|            |\r\n",
      "600004|白云机场|     200|1|0.10000|            |\r\n",
      "600011|华能国际|    1000|1|0.10000|            |\r\n",
      "600018|上港集团|    1000|1|0.10000|            |\r\n",
      "600019|宝钢股份|    2000|1|0.10000|            |\r\n",
      "600027|华电国际|     700|1|0.10000|            |\r\n",
      "600028|中国石化|    3000|1|0.10000|            |\r\n",
      "600029|南方航空|    1000|1|0.10000|            |\r\n",
      "600031|三一重工|    1300|1|0.10000|            |\r\n",
      "600036|招商银行|    2300|1|0.10000|            |\r\n",
      "600048|保利地产|    1600|1|0.10000|            |\r\n",
      "600050|中国联通|    2100|1|0.10000|            |\r\n",
      "600061|国投资本|     400|1|0.10000|            |\r\n",
      "600066|宇通客车|     300|1|0.10000|            |\r\n",
      "600068|葛洲坝  |     600|1|0.10000|            |\r\n",
      "600085|同仁堂  |     100|1|0.10000|            |\r\n",
      "600089|特变电工|     800|1|0.10000|            |\r\n",
      "600104|上汽集团|     800|1|0.10000|            |\r\n",
      "600109|国金证券|     500|1|0.10000|            |\r\n",
      "600115|东方航空|    1000|1|0.10000|            |\r\n",
      "600118|中国卫星|     100|1|0.10000|            |\r\n",
      "600150|中国船舶|     200|1|0.10000|            |\r\n",
      "600171|上海贝岭|     100|1|0.10000|            |\r\n",
      "600176|中国巨石|     500|1|0.10000|            |\r\n",
      "600177|雅戈尔  |     800|1|0.10000|            |\r\n",
      "600183|生益科技|     300|1|0.10000|            |\r\n",
      "600188|兖州煤业|     200|1|0.10000|            |\r\n",
      "600196|复星医药|     200|1|0.10000|            |\r\n",
      "600256|广汇能源|     900|1|0.10000|            |\r\n",
      "600271|航天信息|     300|1|0.10000|            |\r\n",
      "600309|万华化学|     400|1|0.10000|            |\r\n",
      "600332|白云山  |     100|1|0.10000|            |\r\n",
      "600362|江西铜业|     200|1|0.10000|            |\r\n",
      "600383|金地集团|     500|1|0.10000|            |\r\n",
      "600406|国电南瑞|     500|1|0.10000|            |\r\n",
      "600436|片仔癀  |     100|1|0.10000|            |\r\n",
      "600460|士兰微  |     200|1|0.10000|            |\r\n",
      "600489|中金黄金|     400|1|0.10000|            |\r\n",
      "600498|烽火通信|     200|1|0.10000|            |\r\n",
      "600522|中天科技|     500|1|0.10000|            |\r\n",
      "600528|中铁工业|     200|1|0.10000|            |\r\n",
      "600535|天士力  |     200|1|0.10000|            |\r\n",
      "600547|山东黄金|     200|1|0.10000|            |\r\n",
      "600566|济川药业|     100|1|0.10000|            |\r\n",
      "600588|用友网络|     300|1|0.10000|            |\r\n",
      "600600|青岛啤酒|     100|1|0.10000|            |\r\n",
      "600635|大众公用|     400|1|0.10000|            |\r\n",
      "600660|福耀玻璃|     300|1|0.10000|            |\r\n",
      "600690|海尔智家|     800|1|0.10000|            |\r\n",
      "600741|华域汽车|     400|1|0.10000|            |\r\n",
      "600795|国电电力|    2600|1|0.10000|            |\r\n",
      "600875|东方电气|     200|1|0.10000|            |\r\n",
      "600886|国投电力|     800|1|0.10000|            |\r\n",
      "600887|伊利股份|    1400|1|0.10000|            |\r\n",
      "600895|张江高科|     200|1|0.10000|            |\r\n",
      "600900|长江电力|    2000|1|0.10000|            |\r\n",
      "600919|江苏银行|    2100|1|0.10000|            |\r\n",
      "600958|东方证券|     800|1|0.10000|            |\r\n",
      "600977|中国电影|     200|1|0.10000|            |\r\n",
      "600999|招商证券|     600|1|0.10000|            |\r\n",
      "601006|大秦铁路|    1300|1|0.10000|            |\r\n",
      "601009|南京银行|    1300|1|0.10000|            |\r\n",
      "601018|宁波港  |     900|1|0.10000|            |\r\n",
      "601088|中国神华|     700|1|0.10000|            |\r\n",
      "601111|中国国航|     700|1|0.10000|            |\r\n",
      "601166|兴业银行|    3300|1|0.10000|            |\r\n",
      "601186|中国铁建|    1000|1|0.10000|            |\r\n",
      "601211|国泰君安|    1000|1|0.10000|            |\r\n",
      "601229|上海银行|    1600|1|0.10000|            |\r\n",
      "601231|环旭电子|     100|1|0.10000|            |\r\n",
      "601238|广汽集团|     200|1|0.10000|            |\r\n",
      "601318|中国平安|    2400|1|0.10000|            |\r\n",
      "601328|交通银行|     100|2|       |     518.000|\r\n",
      "601336|新华保险|     200|1|0.10000|            |\r\n",
      "601390|中国中铁|    1800|1|0.10000|            |\r\n",
      "601398|工商银行|    4800|1|0.10000|            |\r\n",
      "601555|东吴证券|     700|1|0.10000|            |\r\n",
      "601598|中国外运|     400|1|0.10000|            |\r\n",
      "601601|中国太保|     700|1|0.10000|            |\r\n",
      "601607|上海医药|     300|1|0.10000|            |\r\n",
      "601618|中国中冶|    1600|1|0.10000|            |\r\n",
      "601628|中国人寿|     400|1|0.10000|            |\r\n",
      "601668|中国建筑|    4700|1|0.10000|            |\r\n",
      "601669|中国电建|    1700|1|0.10000|            |\r\n",
      "601727|上海电气|     800|1|0.10000|            |\r\n",
      "601766|中国中车|    2200|1|0.10000|            |\r\n",
      "601800|中国交建|     500|1|0.10000|            |\r\n",
      "601818|光大银行|    3600|1|0.10000|            |\r\n",
      "601838|成都银行|     400|1|0.10000|            |\r\n",
      "601857|中国石油|    2200|1|0.10000|            |\r\n",
      "601877|正泰电器|     200|1|0.10000|            |\r\n",
      "601899|紫金矿业|    3100|1|0.10000|            |\r\n",
      "601919|中远海控|     900|1|0.10000|            |\r\n",
      "601939|建设银行|    1500|1|0.10000|            |\r\n",
      "601985|中国核电|    1400|1|0.10000|            |\r\n",
      "601988|中国银行|    4700|1|0.10000|            |\r\n",
      "601989|中国重工|    2000|1|0.10000|            |\r\n",
      "601998|中信银行|     700|1|0.10000|            |\r\n",
      "603000|人民网  |     100|1|0.10000|            |\r\n",
      "603993|洛阳钼业|    1600|1|0.10000|            |\r\n",
      "ENDENDEND\r\n",
      "\n"
     ]
    }
   ],
   "source": [
    "print(html)"
   ]
  },
  {
   "cell_type": "code",
   "execution_count": 65,
   "metadata": {},
   "outputs": [],
   "source": [
    "import pandas as pd"
   ]
  },
  {
   "cell_type": "code",
   "execution_count": 70,
   "metadata": {},
   "outputs": [],
   "source": [
    "Fundid1=510011\n",
    "name = str(Fundid1) + '.ETF'\n",
    "with open(name,'w+', encoding = 'gb2312') as file:\n",
    "    file.write(html)"
   ]
  },
  {
   "cell_type": "code",
   "execution_count": null,
   "metadata": {},
   "outputs": [],
   "source": [
    "# 分割线 以上是 ETF_Crawler"
   ]
  },
  {
   "cell_type": "code",
   "execution_count": null,
   "metadata": {},
   "outputs": [],
   "source": [
    "# 分割线 一下是 ETF_Processer"
   ]
  },
  {
   "cell_type": "code",
   "execution_count": 63,
   "metadata": {},
   "outputs": [],
   "source": [
    "Fundid1=510011"
   ]
  },
  {
   "cell_type": "code",
   "execution_count": 64,
   "metadata": {
    "collapsed": true
   },
   "outputs": [
    {
     "ename": "FileNotFoundError",
     "evalue": "[Errno 2] File b'510011.ETF' does not exist: b'510011.ETF'",
     "output_type": "error",
     "traceback": [
      "\u001b[1;31m---------------------------------------------------------------------------\u001b[0m",
      "\u001b[1;31mFileNotFoundError\u001b[0m                         Traceback (most recent call last)",
      "\u001b[1;32m<ipython-input-64-493c8e5969be>\u001b[0m in \u001b[0;36m<module>\u001b[1;34m\u001b[0m\n\u001b[0;32m      1\u001b[0m \u001b[0metf_code\u001b[0m \u001b[1;33m=\u001b[0m \u001b[0mstr\u001b[0m\u001b[1;33m(\u001b[0m\u001b[0mFundid1\u001b[0m\u001b[1;33m)\u001b[0m\u001b[1;33m\u001b[0m\u001b[1;33m\u001b[0m\u001b[0m\n\u001b[1;32m----> 2\u001b[1;33m \u001b[0metf_data\u001b[0m \u001b[1;33m=\u001b[0m \u001b[0mETF_Data\u001b[0m\u001b[1;33m(\u001b[0m\u001b[0metf_code\u001b[0m\u001b[1;33m)\u001b[0m\u001b[1;33m\u001b[0m\u001b[1;33m\u001b[0m\u001b[0m\n\u001b[0m",
      "\u001b[1;32m<ipython-input-62-f79b86f4f2f3>\u001b[0m in \u001b[0;36m__init__\u001b[1;34m(self, code)\u001b[0m\n\u001b[0;32m     13\u001b[0m     \u001b[1;32mdef\u001b[0m \u001b[0m__init__\u001b[0m\u001b[1;33m(\u001b[0m\u001b[0mself\u001b[0m\u001b[1;33m,\u001b[0m\u001b[0mcode\u001b[0m\u001b[1;33m)\u001b[0m\u001b[1;33m:\u001b[0m\u001b[1;33m\u001b[0m\u001b[1;33m\u001b[0m\u001b[0m\n\u001b[0;32m     14\u001b[0m         \u001b[0mself\u001b[0m\u001b[1;33m.\u001b[0m\u001b[0metf_code\u001b[0m \u001b[1;33m=\u001b[0m \u001b[0mcode\u001b[0m\u001b[1;33m\u001b[0m\u001b[1;33m\u001b[0m\u001b[0m\n\u001b[1;32m---> 15\u001b[1;33m         \u001b[0mself\u001b[0m\u001b[1;33m.\u001b[0m\u001b[0mdataRaw\u001b[0m \u001b[1;33m=\u001b[0m \u001b[0mself\u001b[0m\u001b[1;33m.\u001b[0m\u001b[0mget_dataRaw\u001b[0m\u001b[1;33m(\u001b[0m\u001b[1;33m)\u001b[0m\u001b[1;33m\u001b[0m\u001b[1;33m\u001b[0m\u001b[0m\n\u001b[0m\u001b[0;32m     16\u001b[0m         \u001b[0mself\u001b[0m\u001b[1;33m.\u001b[0m\u001b[0mETF_constitution\u001b[0m\u001b[1;33m,\u001b[0m \u001b[0mself\u001b[0m\u001b[1;33m.\u001b[0m\u001b[0mETF_PR_list\u001b[0m \u001b[1;33m=\u001b[0m \u001b[0mself\u001b[0m\u001b[1;33m.\u001b[0m\u001b[0mprocess_dataRaw\u001b[0m\u001b[1;33m(\u001b[0m\u001b[1;33m)\u001b[0m\u001b[1;33m\u001b[0m\u001b[1;33m\u001b[0m\u001b[0m\n\u001b[0;32m     17\u001b[0m \u001b[1;33m\u001b[0m\u001b[0m\n",
      "\u001b[1;32m<ipython-input-62-f79b86f4f2f3>\u001b[0m in \u001b[0;36mget_dataRaw\u001b[1;34m(self)\u001b[0m\n\u001b[0;32m     17\u001b[0m \u001b[1;33m\u001b[0m\u001b[0m\n\u001b[0;32m     18\u001b[0m     \u001b[1;32mdef\u001b[0m \u001b[0mget_dataRaw\u001b[0m\u001b[1;33m(\u001b[0m\u001b[0mself\u001b[0m\u001b[1;33m)\u001b[0m\u001b[1;33m:\u001b[0m\u001b[1;33m\u001b[0m\u001b[1;33m\u001b[0m\u001b[0m\n\u001b[1;32m---> 19\u001b[1;33m         \u001b[0mdataRaw\u001b[0m \u001b[1;33m=\u001b[0m \u001b[0mpd\u001b[0m\u001b[1;33m.\u001b[0m\u001b[0mread_csv\u001b[0m\u001b[1;33m(\u001b[0m\u001b[0mself\u001b[0m\u001b[1;33m.\u001b[0m\u001b[0metf_code\u001b[0m\u001b[1;33m+\u001b[0m\u001b[1;34m\".ETF\"\u001b[0m\u001b[1;33m,\u001b[0m \u001b[0msep\u001b[0m\u001b[1;33m=\u001b[0m\u001b[1;34m'\\n'\u001b[0m\u001b[1;33m,\u001b[0m \u001b[0mencoding\u001b[0m \u001b[1;33m=\u001b[0m \u001b[1;34m'gb2312'\u001b[0m\u001b[1;33m)\u001b[0m\u001b[1;33m\u001b[0m\u001b[1;33m\u001b[0m\u001b[0m\n\u001b[0m\u001b[0;32m     20\u001b[0m         \u001b[1;32mreturn\u001b[0m \u001b[0mdataRaw\u001b[0m\u001b[1;33m\u001b[0m\u001b[1;33m\u001b[0m\u001b[0m\n\u001b[0;32m     21\u001b[0m \u001b[1;33m\u001b[0m\u001b[0m\n",
      "\u001b[1;32m~\\AppData\\Local\\Continuum\\anaconda3\\lib\\site-packages\\pandas\\io\\parsers.py\u001b[0m in \u001b[0;36mparser_f\u001b[1;34m(filepath_or_buffer, sep, delimiter, header, names, index_col, usecols, squeeze, prefix, mangle_dupe_cols, dtype, engine, converters, true_values, false_values, skipinitialspace, skiprows, skipfooter, nrows, na_values, keep_default_na, na_filter, verbose, skip_blank_lines, parse_dates, infer_datetime_format, keep_date_col, date_parser, dayfirst, iterator, chunksize, compression, thousands, decimal, lineterminator, quotechar, quoting, doublequote, escapechar, comment, encoding, dialect, tupleize_cols, error_bad_lines, warn_bad_lines, delim_whitespace, low_memory, memory_map, float_precision)\u001b[0m\n\u001b[0;32m    700\u001b[0m                     skip_blank_lines=skip_blank_lines)\n\u001b[0;32m    701\u001b[0m \u001b[1;33m\u001b[0m\u001b[0m\n\u001b[1;32m--> 702\u001b[1;33m         \u001b[1;32mreturn\u001b[0m \u001b[0m_read\u001b[0m\u001b[1;33m(\u001b[0m\u001b[0mfilepath_or_buffer\u001b[0m\u001b[1;33m,\u001b[0m \u001b[0mkwds\u001b[0m\u001b[1;33m)\u001b[0m\u001b[1;33m\u001b[0m\u001b[1;33m\u001b[0m\u001b[0m\n\u001b[0m\u001b[0;32m    703\u001b[0m \u001b[1;33m\u001b[0m\u001b[0m\n\u001b[0;32m    704\u001b[0m     \u001b[0mparser_f\u001b[0m\u001b[1;33m.\u001b[0m\u001b[0m__name__\u001b[0m \u001b[1;33m=\u001b[0m \u001b[0mname\u001b[0m\u001b[1;33m\u001b[0m\u001b[1;33m\u001b[0m\u001b[0m\n",
      "\u001b[1;32m~\\AppData\\Local\\Continuum\\anaconda3\\lib\\site-packages\\pandas\\io\\parsers.py\u001b[0m in \u001b[0;36m_read\u001b[1;34m(filepath_or_buffer, kwds)\u001b[0m\n\u001b[0;32m    427\u001b[0m \u001b[1;33m\u001b[0m\u001b[0m\n\u001b[0;32m    428\u001b[0m     \u001b[1;31m# Create the parser.\u001b[0m\u001b[1;33m\u001b[0m\u001b[1;33m\u001b[0m\u001b[1;33m\u001b[0m\u001b[0m\n\u001b[1;32m--> 429\u001b[1;33m     \u001b[0mparser\u001b[0m \u001b[1;33m=\u001b[0m \u001b[0mTextFileReader\u001b[0m\u001b[1;33m(\u001b[0m\u001b[0mfilepath_or_buffer\u001b[0m\u001b[1;33m,\u001b[0m \u001b[1;33m**\u001b[0m\u001b[0mkwds\u001b[0m\u001b[1;33m)\u001b[0m\u001b[1;33m\u001b[0m\u001b[1;33m\u001b[0m\u001b[0m\n\u001b[0m\u001b[0;32m    430\u001b[0m \u001b[1;33m\u001b[0m\u001b[0m\n\u001b[0;32m    431\u001b[0m     \u001b[1;32mif\u001b[0m \u001b[0mchunksize\u001b[0m \u001b[1;32mor\u001b[0m \u001b[0miterator\u001b[0m\u001b[1;33m:\u001b[0m\u001b[1;33m\u001b[0m\u001b[1;33m\u001b[0m\u001b[0m\n",
      "\u001b[1;32m~\\AppData\\Local\\Continuum\\anaconda3\\lib\\site-packages\\pandas\\io\\parsers.py\u001b[0m in \u001b[0;36m__init__\u001b[1;34m(self, f, engine, **kwds)\u001b[0m\n\u001b[0;32m    893\u001b[0m             \u001b[0mself\u001b[0m\u001b[1;33m.\u001b[0m\u001b[0moptions\u001b[0m\u001b[1;33m[\u001b[0m\u001b[1;34m'has_index_names'\u001b[0m\u001b[1;33m]\u001b[0m \u001b[1;33m=\u001b[0m \u001b[0mkwds\u001b[0m\u001b[1;33m[\u001b[0m\u001b[1;34m'has_index_names'\u001b[0m\u001b[1;33m]\u001b[0m\u001b[1;33m\u001b[0m\u001b[1;33m\u001b[0m\u001b[0m\n\u001b[0;32m    894\u001b[0m \u001b[1;33m\u001b[0m\u001b[0m\n\u001b[1;32m--> 895\u001b[1;33m         \u001b[0mself\u001b[0m\u001b[1;33m.\u001b[0m\u001b[0m_make_engine\u001b[0m\u001b[1;33m(\u001b[0m\u001b[0mself\u001b[0m\u001b[1;33m.\u001b[0m\u001b[0mengine\u001b[0m\u001b[1;33m)\u001b[0m\u001b[1;33m\u001b[0m\u001b[1;33m\u001b[0m\u001b[0m\n\u001b[0m\u001b[0;32m    896\u001b[0m \u001b[1;33m\u001b[0m\u001b[0m\n\u001b[0;32m    897\u001b[0m     \u001b[1;32mdef\u001b[0m \u001b[0mclose\u001b[0m\u001b[1;33m(\u001b[0m\u001b[0mself\u001b[0m\u001b[1;33m)\u001b[0m\u001b[1;33m:\u001b[0m\u001b[1;33m\u001b[0m\u001b[1;33m\u001b[0m\u001b[0m\n",
      "\u001b[1;32m~\\AppData\\Local\\Continuum\\anaconda3\\lib\\site-packages\\pandas\\io\\parsers.py\u001b[0m in \u001b[0;36m_make_engine\u001b[1;34m(self, engine)\u001b[0m\n\u001b[0;32m   1120\u001b[0m     \u001b[1;32mdef\u001b[0m \u001b[0m_make_engine\u001b[0m\u001b[1;33m(\u001b[0m\u001b[0mself\u001b[0m\u001b[1;33m,\u001b[0m \u001b[0mengine\u001b[0m\u001b[1;33m=\u001b[0m\u001b[1;34m'c'\u001b[0m\u001b[1;33m)\u001b[0m\u001b[1;33m:\u001b[0m\u001b[1;33m\u001b[0m\u001b[1;33m\u001b[0m\u001b[0m\n\u001b[0;32m   1121\u001b[0m         \u001b[1;32mif\u001b[0m \u001b[0mengine\u001b[0m \u001b[1;33m==\u001b[0m \u001b[1;34m'c'\u001b[0m\u001b[1;33m:\u001b[0m\u001b[1;33m\u001b[0m\u001b[1;33m\u001b[0m\u001b[0m\n\u001b[1;32m-> 1122\u001b[1;33m             \u001b[0mself\u001b[0m\u001b[1;33m.\u001b[0m\u001b[0m_engine\u001b[0m \u001b[1;33m=\u001b[0m \u001b[0mCParserWrapper\u001b[0m\u001b[1;33m(\u001b[0m\u001b[0mself\u001b[0m\u001b[1;33m.\u001b[0m\u001b[0mf\u001b[0m\u001b[1;33m,\u001b[0m \u001b[1;33m**\u001b[0m\u001b[0mself\u001b[0m\u001b[1;33m.\u001b[0m\u001b[0moptions\u001b[0m\u001b[1;33m)\u001b[0m\u001b[1;33m\u001b[0m\u001b[1;33m\u001b[0m\u001b[0m\n\u001b[0m\u001b[0;32m   1123\u001b[0m         \u001b[1;32melse\u001b[0m\u001b[1;33m:\u001b[0m\u001b[1;33m\u001b[0m\u001b[1;33m\u001b[0m\u001b[0m\n\u001b[0;32m   1124\u001b[0m             \u001b[1;32mif\u001b[0m \u001b[0mengine\u001b[0m \u001b[1;33m==\u001b[0m \u001b[1;34m'python'\u001b[0m\u001b[1;33m:\u001b[0m\u001b[1;33m\u001b[0m\u001b[1;33m\u001b[0m\u001b[0m\n",
      "\u001b[1;32m~\\AppData\\Local\\Continuum\\anaconda3\\lib\\site-packages\\pandas\\io\\parsers.py\u001b[0m in \u001b[0;36m__init__\u001b[1;34m(self, src, **kwds)\u001b[0m\n\u001b[0;32m   1851\u001b[0m         \u001b[0mkwds\u001b[0m\u001b[1;33m[\u001b[0m\u001b[1;34m'usecols'\u001b[0m\u001b[1;33m]\u001b[0m \u001b[1;33m=\u001b[0m \u001b[0mself\u001b[0m\u001b[1;33m.\u001b[0m\u001b[0musecols\u001b[0m\u001b[1;33m\u001b[0m\u001b[1;33m\u001b[0m\u001b[0m\n\u001b[0;32m   1852\u001b[0m \u001b[1;33m\u001b[0m\u001b[0m\n\u001b[1;32m-> 1853\u001b[1;33m         \u001b[0mself\u001b[0m\u001b[1;33m.\u001b[0m\u001b[0m_reader\u001b[0m \u001b[1;33m=\u001b[0m \u001b[0mparsers\u001b[0m\u001b[1;33m.\u001b[0m\u001b[0mTextReader\u001b[0m\u001b[1;33m(\u001b[0m\u001b[0msrc\u001b[0m\u001b[1;33m,\u001b[0m \u001b[1;33m**\u001b[0m\u001b[0mkwds\u001b[0m\u001b[1;33m)\u001b[0m\u001b[1;33m\u001b[0m\u001b[1;33m\u001b[0m\u001b[0m\n\u001b[0m\u001b[0;32m   1854\u001b[0m         \u001b[0mself\u001b[0m\u001b[1;33m.\u001b[0m\u001b[0munnamed_cols\u001b[0m \u001b[1;33m=\u001b[0m \u001b[0mself\u001b[0m\u001b[1;33m.\u001b[0m\u001b[0m_reader\u001b[0m\u001b[1;33m.\u001b[0m\u001b[0munnamed_cols\u001b[0m\u001b[1;33m\u001b[0m\u001b[1;33m\u001b[0m\u001b[0m\n\u001b[0;32m   1855\u001b[0m \u001b[1;33m\u001b[0m\u001b[0m\n",
      "\u001b[1;32mpandas/_libs/parsers.pyx\u001b[0m in \u001b[0;36mpandas._libs.parsers.TextReader.__cinit__\u001b[1;34m()\u001b[0m\n",
      "\u001b[1;32mpandas/_libs/parsers.pyx\u001b[0m in \u001b[0;36mpandas._libs.parsers.TextReader._setup_parser_source\u001b[1;34m()\u001b[0m\n",
      "\u001b[1;31mFileNotFoundError\u001b[0m: [Errno 2] File b'510011.ETF' does not exist: b'510011.ETF'"
     ]
    }
   ],
   "source": [
    "etf_code = str(Fundid1)\n",
    "etf_data = ETF_Data(etf_code,dataRaw)"
   ]
  },
  {
   "cell_type": "code",
   "execution_count": null,
   "metadata": {},
   "outputs": [],
   "source": []
  }
 ],
 "metadata": {
  "kernelspec": {
   "display_name": "Python 3",
   "language": "python",
   "name": "python3"
  },
  "language_info": {
   "codemirror_mode": {
    "name": "ipython",
    "version": 3
   },
   "file_extension": ".py",
   "mimetype": "text/x-python",
   "name": "python",
   "nbconvert_exporter": "python",
   "pygments_lexer": "ipython3",
   "version": "3.7.3"
  }
 },
 "nbformat": 4,
 "nbformat_minor": 2
}
